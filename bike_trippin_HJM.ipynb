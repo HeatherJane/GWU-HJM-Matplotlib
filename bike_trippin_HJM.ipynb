{
 "cells": [
  {
   "cell_type": "markdown",
   "metadata": {},
   "source": [
    "# Bike Trippin\n",
    "\n",
    "For this assignment, you will be taking \"Cycle Share\" data from Seattle and creating charts to determine which gender borrows and uses bikes more often.\n",
    "\n",
    "* Import your dependencies and then import your data into a pandas data frame from the CSV within the 'Data' folder\n",
    "* Split up your data into groups based upon the gender column\n",
    "    * NOTE: There will be a garbage row with a gender of 'stoptime' which you will have to remove!\n",
    "* Chart your data using a bar graph, giving it both a title and labels for the axes"
   ]
  },
  {
   "cell_type": "code",
   "execution_count": 1,
   "metadata": {},
   "outputs": [],
   "source": [
    "%matplotlib notebook\n",
    "%matplotlib inline "
   ]
  },
  {
   "cell_type": "code",
   "execution_count": 2,
   "metadata": {},
   "outputs": [],
   "source": [
    "# Import Dependencies\n",
    "\n",
    "# pyplot\n",
    "import matplotlib.pyplot as plt\n",
    "\n",
    "# pandas\n",
    "import pandas as pd\n",
    "\n",
    "# numpy (if you need it)\n",
    "import numpy as np"
   ]
  },
  {
   "cell_type": "code",
   "execution_count": 3,
   "metadata": {},
   "outputs": [
    {
     "name": "stderr",
     "output_type": "stream",
     "text": [
      "/Users/heatherjanemoore/opt/anaconda3/lib/python3.7/site-packages/IPython/core/interactiveshell.py:3058: DtypeWarning: Columns (9) have mixed types. Specify dtype option on import or set low_memory=False.\n",
      "  interactivity=interactivity, compiler=compiler, result=result)\n"
     ]
    },
    {
     "data": {
      "text/html": [
       "<div>\n",
       "<style scoped>\n",
       "    .dataframe tbody tr th:only-of-type {\n",
       "        vertical-align: middle;\n",
       "    }\n",
       "\n",
       "    .dataframe tbody tr th {\n",
       "        vertical-align: top;\n",
       "    }\n",
       "\n",
       "    .dataframe thead th {\n",
       "        text-align: right;\n",
       "    }\n",
       "</style>\n",
       "<table border=\"1\" class=\"dataframe\">\n",
       "  <thead>\n",
       "    <tr style=\"text-align: right;\">\n",
       "      <th></th>\n",
       "      <th>stoptime</th>\n",
       "      <th>bikeid</th>\n",
       "      <th>tripduration</th>\n",
       "      <th>from_station_name</th>\n",
       "      <th>to_station_name</th>\n",
       "      <th>from_station_id</th>\n",
       "      <th>to_station_id</th>\n",
       "      <th>usertype</th>\n",
       "      <th>gender</th>\n",
       "      <th>birthyear</th>\n",
       "    </tr>\n",
       "  </thead>\n",
       "  <tbody>\n",
       "    <tr>\n",
       "      <td>0</td>\n",
       "      <td>10/13/2014 10:48</td>\n",
       "      <td>SEA00298</td>\n",
       "      <td>985.935</td>\n",
       "      <td>2nd Ave &amp; Spring St</td>\n",
       "      <td>Occidental Park / Occidental Ave S &amp; S Washing...</td>\n",
       "      <td>CBD-06</td>\n",
       "      <td>PS-04</td>\n",
       "      <td>Member</td>\n",
       "      <td>Male</td>\n",
       "      <td>1960</td>\n",
       "    </tr>\n",
       "    <tr>\n",
       "      <td>1</td>\n",
       "      <td>10/13/2014 10:48</td>\n",
       "      <td>SEA00195</td>\n",
       "      <td>926.375</td>\n",
       "      <td>2nd Ave &amp; Spring St</td>\n",
       "      <td>Occidental Park / Occidental Ave S &amp; S Washing...</td>\n",
       "      <td>CBD-06</td>\n",
       "      <td>PS-04</td>\n",
       "      <td>Member</td>\n",
       "      <td>Male</td>\n",
       "      <td>1970</td>\n",
       "    </tr>\n",
       "    <tr>\n",
       "      <td>2</td>\n",
       "      <td>10/13/2014 10:48</td>\n",
       "      <td>SEA00486</td>\n",
       "      <td>883.831</td>\n",
       "      <td>2nd Ave &amp; Spring St</td>\n",
       "      <td>Occidental Park / Occidental Ave S &amp; S Washing...</td>\n",
       "      <td>CBD-06</td>\n",
       "      <td>PS-04</td>\n",
       "      <td>Member</td>\n",
       "      <td>Female</td>\n",
       "      <td>1988</td>\n",
       "    </tr>\n",
       "    <tr>\n",
       "      <td>3</td>\n",
       "      <td>10/13/2014 10:48</td>\n",
       "      <td>SEA00333</td>\n",
       "      <td>865.937</td>\n",
       "      <td>2nd Ave &amp; Spring St</td>\n",
       "      <td>Occidental Park / Occidental Ave S &amp; S Washing...</td>\n",
       "      <td>CBD-06</td>\n",
       "      <td>PS-04</td>\n",
       "      <td>Member</td>\n",
       "      <td>Female</td>\n",
       "      <td>1977</td>\n",
       "    </tr>\n",
       "    <tr>\n",
       "      <td>4</td>\n",
       "      <td>10/13/2014 10:49</td>\n",
       "      <td>SEA00202</td>\n",
       "      <td>923.923</td>\n",
       "      <td>2nd Ave &amp; Spring St</td>\n",
       "      <td>Occidental Park / Occidental Ave S &amp; S Washing...</td>\n",
       "      <td>CBD-06</td>\n",
       "      <td>PS-04</td>\n",
       "      <td>Member</td>\n",
       "      <td>Male</td>\n",
       "      <td>1971</td>\n",
       "    </tr>\n",
       "  </tbody>\n",
       "</table>\n",
       "</div>"
      ],
      "text/plain": [
       "           stoptime    bikeid  tripduration    from_station_name  \\\n",
       "0  10/13/2014 10:48  SEA00298       985.935  2nd Ave & Spring St   \n",
       "1  10/13/2014 10:48  SEA00195       926.375  2nd Ave & Spring St   \n",
       "2  10/13/2014 10:48  SEA00486       883.831  2nd Ave & Spring St   \n",
       "3  10/13/2014 10:48  SEA00333       865.937  2nd Ave & Spring St   \n",
       "4  10/13/2014 10:49  SEA00202       923.923  2nd Ave & Spring St   \n",
       "\n",
       "                                     to_station_name from_station_id  \\\n",
       "0  Occidental Park / Occidental Ave S & S Washing...          CBD-06   \n",
       "1  Occidental Park / Occidental Ave S & S Washing...          CBD-06   \n",
       "2  Occidental Park / Occidental Ave S & S Washing...          CBD-06   \n",
       "3  Occidental Park / Occidental Ave S & S Washing...          CBD-06   \n",
       "4  Occidental Park / Occidental Ave S & S Washing...          CBD-06   \n",
       "\n",
       "  to_station_id usertype  gender birthyear  \n",
       "0         PS-04   Member    Male      1960  \n",
       "1         PS-04   Member    Male      1970  \n",
       "2         PS-04   Member  Female      1988  \n",
       "3         PS-04   Member  Female      1977  \n",
       "4         PS-04   Member    Male      1971  "
      ]
     },
     "execution_count": 3,
     "metadata": {},
     "output_type": "execute_result"
    }
   ],
   "source": [
    "# Import data into pandas from CSV\n",
    "bike_trips = '../Resources/trip.csv'\n",
    "\n",
    "bike_trips_df = pd.read_csv(bike_trips)\n",
    "# Preview your DataFrame\n",
    "bike_trips_df.head(5)"
   ]
  },
  {
   "cell_type": "code",
   "execution_count": 4,
   "metadata": {},
   "outputs": [
    {
     "data": {
      "image/png": "[encoded data removed]",
      "text/plain": [
       "<Figure size 432x288 with 1 Axes>"
      ]
     },
     "metadata": {
      "needs_background": "light"
     },
     "output_type": "display_data"
    }
   ],
   "source": [
    "# Split up our data into groups based upon 'gender'\n",
    "gender_groups= bike_trips_df.groupby(\"gender\")\n",
    "\n",
    "# Find out how many of each gender took bike trips\n",
    "gender_trips=gender_groups[\"tripduration\"].count()\n",
    "\n",
    "\n",
    "# Drop the 'stoptime' row that is contained within our group\n",
    "gender_trips= gender_trips.drop(gender_trips.index[3])\n",
    "\n",
    "# Use plt.figure() to instantiate a new plot\n",
    "count_chart = gender_trips.plot(kind='bar')\n",
    "\n",
    "# Chart our data, give it a title, and label the axes\n",
    "count_chart.set_xlabel(\"Gender\")\n",
    "count_chart.set_ylabel(\"Number of Trips\")\n",
    "count_chart.set_title(\"Bike Trips by Gender\")\n",
    "\n",
    "# Display your chart with a tight layout\n",
    "plt.tight_layout()"
   ]
  },
  {
   "cell_type": "code",
   "execution_count": 5,
   "metadata": {},
   "outputs": [],
   "source": [
    "# Place our data into groups based upon 'bikeid' and 'gender'\n",
    "bike_groups= bike_trips_df.groupby([\"bikeid\",\"gender\"])\n",
    "\n",
    "# Create a new variable that holds the sum of our groups\n",
    "bike_ids_sums= bike_groups.sum()\n",
    "# Preview your grouped DataFrame"
   ]
  },
  {
   "cell_type": "code",
   "execution_count": 8,
   "metadata": {},
   "outputs": [
    {
     "data": {
      "image/png": "[encoded data removed]",
      "text/plain": [
       "<Figure size 432x288 with 1 Axes>"
      ]
     },
     "metadata": {},
     "output_type": "display_data"
    },
    {
     "data": {
      "text/plain": [
       "<Figure size 432x288 with 0 Axes>"
      ]
     },
     "metadata": {},
     "output_type": "display_data"
    }
   ],
   "source": [
    "# Make a variable called bike_id and store a 'bikeid' in it\n",
    "# Hint: Pick any of the values from the bikeid column\n",
    "bike_id = \"SEA00001\"\n",
    "\n",
    "# Collect the trips of the 'bikeid' above (there are several ways to do this, but consider using `loc`)\n",
    "onebike= bike_ids_sums.loc[bike_id]\n",
    "genders= onebike.keys()\n",
    "onebike.plot(kind=\"pie\", y=genders, title=(f\"Trip of Bike {bike_id}\"))\n",
    "\n",
    "# Place the gender keys for that single bike into a list\n",
    "# Hint: use the .keys() function\n",
    "plt.show()\n",
    "\n",
    "# Create a pie chart based upon the trip duration of that single bike\n",
    "# Use an f-string to create the label \n",
    "\n",
    "# Show the chart in tight layout\n",
    "plt.tight_layout()"
   ]
  },
  {
   "cell_type": "code",
   "execution_count": null,
   "metadata": {},
   "outputs": [],
   "source": []
  }
 ],
 "metadata": {
  "kernelspec": {
   "display_name": "Python 3",
   "language": "python",
   "name": "python3"
  },
  "language_info": {
   "codemirror_mode": {
    "name": "ipython",
    "version": 3
   },
   "file_extension": ".py",
   "mimetype": "text/x-python",
   "name": "python",
   "nbconvert_exporter": "python",
   "pygments_lexer": "ipython3",
   "version": "3.7.4"
  }
 },
 "nbformat": 4,
 "nbformat_minor": 4
}
